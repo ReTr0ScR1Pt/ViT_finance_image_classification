{
 "cells": [
  {
   "cell_type": "code",
   "execution_count": 1,
   "id": "f4fa8e83-2327-4768-a490-515b7def9406",
   "metadata": {},
   "outputs": [],
   "source": [
    "import os\n",
    "import matplotlib.pyplot as plt\n",
    "import numpy as np\n",
    "import tensorflow as tf\n",
    "from tensorflow.keras.models import Sequential\n",
    "from tensorflow.keras.layers import Dense, Flatten\n",
    "from tensorflow.keras.preprocessing.image import ImageDataGenerator\n",
    "from tensorflow.keras.applications import EfficientNetV2B0  # Pre-trained model\n",
    "from tensorflow.keras.optimizers import Adam\n",
    "from tensorflow.keras.layers import Input"
   ]
  },
  {
   "cell_type": "code",
   "execution_count": 2,
   "id": "fe250b0a-d31d-40c0-ae2d-7c7fef22deb1",
   "metadata": {},
   "outputs": [
    {
     "data": {
      "text/plain": [
       "'D:\\\\Research\\\\CNN\\\\Datasets\\\\Train\\\\High'"
      ]
     },
     "execution_count": 2,
     "metadata": {},
     "output_type": "execute_result"
    }
   ],
   "source": [
    "# dataset_dir = 'D:\\Research\\CNN\\Datasets\\High'\n",
    "os.chdir ('D:\\Research\\CNN\\Datasets\\Train\\High')\n",
    "os.getcwd()"
   ]
  },
  {
   "cell_type": "code",
   "execution_count": 3,
   "id": "f04e9c15-be60-42c7-ab84-99dd9133e77c",
   "metadata": {},
   "outputs": [],
   "source": [
    "# Create ImageDataGenerators for training and testing\n",
    "train_datagen = ImageDataGenerator(rescale=1./255)\n",
    "test_datagen = ImageDataGenerator(rescale=1./255)"
   ]
  },
  {
   "cell_type": "code",
   "execution_count": 4,
   "id": "3b8058da-5785-4a17-860e-fde2470fe1c3",
   "metadata": {},
   "outputs": [],
   "source": [
    "# Set up directories\n",
    "train_dir = 'D:\\Research\\CNN\\Datasets\\Train'\n",
    "test_dir = 'D:\\Research\\CNN\\Datasets\\Test'"
   ]
  },
  {
   "cell_type": "code",
   "execution_count": 5,
   "id": "6f9e3a41-02f2-4838-b174-c136e15a02c4",
   "metadata": {},
   "outputs": [
    {
     "name": "stdout",
     "output_type": "stream",
     "text": [
      "Found 6830 images belonging to 2 classes.\n",
      "Found 0 images belonging to 0 classes.\n"
     ]
    }
   ],
   "source": [
    "# Prepare data generators\n",
    "train_generator = train_datagen.flow_from_directory(\n",
    "    train_dir,\n",
    "    target_size=(386, 298),\n",
    "    batch_size=3,\n",
    "    class_mode='binary')\n",
    "\n",
    "test_generator = test_datagen.flow_from_directory(\n",
    "    test_dir,\n",
    "    target_size=(386, 298),\n",
    "    batch_size=3,\n",
    "    class_mode='binary')"
   ]
  },
  {
   "cell_type": "code",
   "execution_count": 6,
   "id": "fc6f907d-b8d3-419b-a135-69687e205c9e",
   "metadata": {},
   "outputs": [],
   "source": [
    "# Load a pre-trained Vision Transformer model, here we use EfficientNetV2B0 which has similar principles\n",
    "base_model = EfficientNetV2B0(include_top=False, weights='imagenet', input_tensor=Input(shape=(386, 298, 3)))"
   ]
  },
  {
   "cell_type": "code",
   "execution_count": 7,
   "id": "dd484db5-1f97-4e84-bdbe-ba1b00419360",
   "metadata": {},
   "outputs": [],
   "source": [
    "# Freeze the layers of the base model\n",
    "for layer in base_model.layers:\n",
    "    layer.trainable = False"
   ]
  },
  {
   "cell_type": "code",
   "execution_count": 8,
   "id": "384bca19-aea5-4499-b61d-4a9e59791969",
   "metadata": {},
   "outputs": [],
   "source": [
    "# Create the model\n",
    "model = Sequential([\n",
    "    base_model,\n",
    "    Flatten(),\n",
    "    Dense(512, activation='relu'),\n",
    "    Dense(1, activation='sigmoid')\n",
    "])"
   ]
  },
  {
   "cell_type": "code",
   "execution_count": 9,
   "id": "177095a9-c357-40c6-ad01-1ddeca122a9d",
   "metadata": {},
   "outputs": [],
   "source": [
    "# Compile the model\n",
    "model.compile(optimizer=Adam(), loss='binary_crossentropy', metrics=['accuracy'])"
   ]
  },
  {
   "cell_type": "code",
   "execution_count": 10,
   "id": "9d75628e-4b12-4652-89ec-246a25f731e3",
   "metadata": {},
   "outputs": [],
   "source": [
    "# Train the model\n",
    "# model.fit(train_generator, steps_per_epoch=len(train_generator), epochs=1, validation_data=test_generator, validation_steps=len(test_generator))"
   ]
  },
  {
   "cell_type": "code",
   "execution_count": 11,
   "id": "eda8809f-78c0-4a7d-915d-5c5b80408b4a",
   "metadata": {},
   "outputs": [
    {
     "name": "stdout",
     "output_type": "stream",
     "text": [
      " 752/2277 [========>.....................] - ETA: 24:58 - loss: 10.5832 - accuracy: 0.9051"
     ]
    },
    {
     "name": "stderr",
     "output_type": "stream",
     "text": [
      "C:\\Users\\ASUS\\anaconda3\\envs\\finance_env\\lib\\site-packages\\PIL\\Image.py:981: UserWarning: Palette images with Transparency expressed in bytes should be converted to RGBA images\n",
      "  warnings.warn(\n"
     ]
    },
    {
     "name": "stdout",
     "output_type": "stream",
     "text": [
      "2277/2277 [==============================] - 2200s 961ms/step - loss: 4.4028 - accuracy: 0.9075\n"
     ]
    }
   ],
   "source": [
    "# Train the model\n",
    "# history = model.fit(\n",
    "#     train_generator,\n",
    "#     steps_per_epoch=len(train_generator),\n",
    "#     epochs=1,\n",
    "#     validation_data=test_generator,\n",
    "#     validation_steps=len(test_generator)\n",
    "# )\n",
    "history = model.fit(train_generator, steps_per_epoch=len(train_generator), epochs=1, validation_data=test_generator, validation_steps=len(test_generator))"
   ]
  },
  {
   "cell_type": "code",
   "execution_count": 18,
   "id": "a06f632d-ae01-4256-980a-0c2018b61cf8",
   "metadata": {},
   "outputs": [
    {
     "name": "stdout",
     "output_type": "stream",
     "text": [
      "dict_keys(['loss', 'accuracy'])\n"
     ]
    }
   ],
   "source": [
    "print(history.history.keys())  # what keys are available"
   ]
  },
  {
   "cell_type": "code",
   "execution_count": 15,
   "id": "8e369625-4db3-4a84-8361-7231e01c1463",
   "metadata": {},
   "outputs": [],
   "source": [
    "# Adjust the key names based on your print result\n",
    "val_acc_key = 'val_accuracy' if 'val_accuracy' in history.history else 'val_acc'\n",
    "train_acc_key = 'accuracy' if 'accuracy' in history.history else 'acc'"
   ]
  },
  {
   "cell_type": "code",
   "execution_count": 19,
   "id": "fb83faa0-86f3-4710-b65c-6d6eeeb90f4e",
   "metadata": {},
   "outputs": [
    {
     "data": {
      "image/png": "[encoded data removed]",
      "text/plain": [
       "<Figure size 640x480 with 1 Axes>"
      ]
     },
     "metadata": {},
     "output_type": "display_data"
    }
   ],
   "source": [
    "# Plot training & validation accuracy values\n",
    "# plt.plot(history.history[train_acc_key])\n",
    "# plt.plot(history.history[val_acc_key])\n",
    "# plt.title('Model accuracy')\n",
    "# plt.ylabel('Accuracy')\n",
    "# plt.xlabel('Epoch')\n",
    "# plt.legend(['Train', 'Test'], loc='upper left')\n",
    "# plt.show()\n",
    "\n",
    "plt.plot(history.history['accuracy'])\n",
    "plt.title('Model Accuracy')\n",
    "plt.ylabel('Accuracy')\n",
    "plt.xlabel('Epoch')\n",
    "plt.legend(['Train'], loc='upper left')\n",
    "plt.show()"
   ]
  },
  {
   "cell_type": "code",
   "execution_count": 20,
   "id": "efd562ac-2f10-4d35-81e3-11dba0b8da07",
   "metadata": {},
   "outputs": [
    {
     "data": {
      "image/png": "[encoded data removed]",
      "text/plain": [
       "<Figure size 640x480 with 1 Axes>"
      ]
     },
     "metadata": {},
     "output_type": "display_data"
    }
   ],
   "source": [
    "# Plot training & validation loss values\n",
    "# plt.plot(history.history['loss'])\n",
    "# plt.plot(history.history['val_loss'])\n",
    "# plt.title('Model loss')\n",
    "# plt.ylabel('Loss')\n",
    "# plt.xlabel('Epoch')\n",
    "# plt.legend(['Train', 'Test'], loc='upper left')\n",
    "# plt.show()\n",
    "\n",
    "plt.plot(history.history['loss'])\n",
    "plt.title('Model loss')\n",
    "plt.ylabel('Loss')\n",
    "plt.xlabel('Epoch')\n",
    "plt.legend(['Train', 'Test'], loc='upper left')\n",
    "plt.show()"
   ]
  },
  {
   "cell_type": "code",
   "execution_count": null,
   "id": "40cf40b0-2bc1-4c12-850c-ff07278fe9bf",
   "metadata": {},
   "outputs": [],
   "source": [
    "def check_images(s_dir, ext_list):\n",
    "    bad_images = []\n",
    "    bad_ext = []\n",
    "    for folder in os.listdir(s_dir):\n",
    "        folder_path = os.path.join(s_dir, folder)\n",
    "        for file in os.listdir(folder_path):\n",
    "            file_path = os.path.join(folder_path, file)\n",
    "            try:\n",
    "                img = Image.open(file_path)  # open the image file\n",
    "                img.verify()  # verify that it is, in fact an image\n",
    "            except (IOError, SyntaxError) as e:\n",
    "                print('Bad file:', file_path)  # print out the names of corrupt files\n",
    "                bad_images.append(file_path)\n",
    "            if file.split('.')[-1].lower() not in ext_list:\n",
    "                print('Bad extension:', file_path)\n",
    "                bad_ext.append(file_path)\n",
    "    return bad_images, bad_ext\n",
    "\n",
    "bad_files, bad_extensions = check_images('D:\\\\Research\\\\CNN\\\\Datasets\\\\Train', ['jpg', 'jpeg', 'png'])\n",
    "print('Corrupt image files:', bad_files)\n",
    "print('Files with bad extensions:', bad_extensions)"
   ]
  },
  {
   "cell_type": "code",
   "execution_count": null,
   "id": "84c3eda8-1f5c-45af-9cb5-eae6066b74c5",
   "metadata": {},
   "outputs": [],
   "source": [
    "# Predicting with the trained model\n",
    "# dir_path = 'D:\\Research\\CNN\\Datasets\\Test'\n",
    "# for i in os.listdir(dir_path):\n",
    "#     img = tf.keras.preprocessing.image.load_img(os.path.join(dir_path, i), target_size=(386, 298))\n",
    "#     plt.imshow(img)\n",
    "#     plt.show()\n",
    "\n",
    "#     img_array = tf.keras.preprocessing.image.img_to_array(img)\n",
    "#     img_array = tf.expand_dims(img_array, 0)  # Create a batch\n",
    "#     img_array /= 255.0  # Rescale the image\n",
    "\n",
    "#     predictions = model.predict(img_array)\n",
    "#     print(\"Prediction:\", predictions[0])\n",
    "#     if predictions[0] < 0.5:\n",
    "#         print(\"This is High\")\n",
    "#     else:\n",
    "#         print(\"This is Low\")"
   ]
  },
  {
   "cell_type": "code",
   "execution_count": null,
   "id": "8941da5b-afad-4f3c-b593-d7c4205801c9",
   "metadata": {},
   "outputs": [],
   "source": [
    "print(\"\n",
    "Epoch 1/10\n",
    "2277/2277 [==============================] - 2163s 950ms/step - loss: 3.9214 - accuracy: 0.9102\n",
    "Epoch 2/10\n",
    "2277/2277 [==============================] - 2198s 965ms/step - loss: 3.8072 - accuracy: 0.9125\n",
    "Epoch 3/10\n",
    "2277/2277 [==============================] - 2203s 968ms/step - loss: 3.6889 - accuracy: 0.9150\n",
    "Epoch 4/10\n",
    "2277/2277 [==============================] - 2175s 955ms/step - loss: 3.9150 - accuracy: 0.9080\n",
    "Epoch 5/10\n",
    "2277/2277 [==============================] - 2180s 957ms/step - loss: 4.1208 - accuracy: 0.9053\n",
    "Epoch 6/10\n",
    "2277/2277 [==============================] - 2165s 951ms/step - loss: 4.2315 - accuracy: 0.9047\n",
    "Epoch 7/10\n",
    "2277/2277 [==============================] - 2188s 961ms/step - loss: 4.3826 - accuracy: 0.9025\n",
    "Epoch 8/10\n",
    "2277/2277 [==============================] - 2172s 954ms/step - loss: 4.4582 - accuracy: 0.9067\n",
    "Epoch 9/10\n",
    "2277/2277 [==============================] - 2189s 962ms/step - loss: 4.5199 - accuracy: 0.9078\n",
    "Epoch 10/10\n",
    "2277/2277 [==============================] - 2200s 966ms/step - loss: 4.4028 - accuracy: 0.9075\n",
    "\")"
   ]
  }
 ],
 "metadata": {
  "kernelspec": {
   "display_name": "Python 3 (ipykernel)",
   "language": "python",
   "name": "python3"
  },
  "language_info": {
   "codemirror_mode": {
    "name": "ipython",
    "version": 3
   },
   "file_extension": ".py",
   "mimetype": "text/x-python",
   "name": "python",
   "nbconvert_exporter": "python",
   "pygments_lexer": "ipython3",
   "version": "3.8.18"
  }
 },
 "nbformat": 4,
 "nbformat_minor": 5
}
